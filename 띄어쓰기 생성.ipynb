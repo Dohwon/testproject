{
 "cells": [
  {
   "cell_type": "code",
   "execution_count": 166,
   "metadata": {},
   "outputs": [],
   "source": [
    "sent = '물질 안전 보건 자료 MSDS'"
   ]
  },
  {
   "cell_type": "code",
   "execution_count": 167,
   "metadata": {},
   "outputs": [],
   "source": [
    "sent = sent.split(' ')"
   ]
  },
  {
   "cell_type": "code",
   "execution_count": 3,
   "metadata": {},
   "outputs": [],
   "source": [
    "space = [' ']"
   ]
  },
  {
   "cell_type": "code",
   "execution_count": 205,
   "metadata": {},
   "outputs": [
    {
     "data": {
      "text/plain": [
       "'물질안전보건자료MSDS '"
      ]
     },
     "execution_count": 205,
     "metadata": {},
     "output_type": "execute_result"
    }
   ],
   "source": [
    "# 공백 한칸씩\n",
    "sent[0]+' '+sent[1]+' '+sent[2]+' '+sent[3]+' '+sent[4]+' '\n",
    "sent[0]+sent[1]+' '+sent[2]+' '+sent[3]+' '+sent[4]+' '\n",
    "sent[0]+sent[1]+sent[2]+' '+sent[3]+' '+sent[4]+' '\n",
    "sent[0]+sent[1]+sent[2]+sent[3]+' '+sent[4]+' '\n",
    "sent[0]+sent[1]+sent[2]+sent[3]+sent[4]+' '\n",
    "\n",
    "# 공백 두칸씩\n",
    "sent[0]+' '+sent[1]+sent[2]+' '+sent[3]+sent[4]+' '\n",
    "sent[0]+sent[1]+' '+sent[2]+sent[3]+' '+sent[4]\n",
    "sent[0]+sent[1]+sent[2]+' '+sent[3]+sent[4]+' '\n",
    "sent[0]+sent[1]+sent[2]+sent[3]+' '+sent[4]\n",
    "\n",
    "# 공백 세칸씩\n",
    "sent[0]+' '+sent[1]+sent[2]+sent[3]+' '+sent[4]\n",
    "sent[0]+sent[1]+' '+sent[2]+sent[3]+sent[4]+' '\n",
    "sent[0]+sent[1]+sent[2]+' '+sent[3]+sent[4]\n",
    "sent[0]+sent[1]+sent[2]+sent[3]+' '+sent[4]\n",
    "\n",
    "# 공백 네칸씩\n",
    "sent[0]+' '+sent[1]+sent[2]+sent[3]+sent[4]+' '\n",
    "sent[0]+sent[1]+' '+sent[2]+sent[3]+sent[4]\n",
    "sent[0]+sent[1]+sent[2]+' '+sent[3]+sent[4]\n",
    "sent[0]+sent[1]+sent[2]+sent[3]+' '+sent[4]\n",
    "\n",
    "# 공백 다섯칸씩\n",
    "sent[0]+' '+sent[1]+sent[2]+sent[3]+sent[4]\n",
    "sent[0]+sent[1]+' '+sent[2]+sent[3]+sent[4]\n",
    "sent[0]+sent[1]+sent[2]+' '+sent[3]+sent[4]\n",
    "sent[0]+sent[1]+sent[2]+sent[3]+' '+sent[4]\n",
    "sent[0]+sent[1]+sent[2]+sent[3]+sent[4]+' '"
   ]
  },
  {
   "cell_type": "code",
   "execution_count": 204,
   "metadata": {},
   "outputs": [
    {
     "data": {
      "text/plain": [
       "['물질 안전 보건 자료 MSDS',\n",
       " '물질안전 보건 자료 MSDS',\n",
       " '물질안전보건 자료 MSDS',\n",
       " '물질안전보건자료 MSDS',\n",
       " '물질안전보건자료MSDS']"
      ]
     },
     "execution_count": 204,
     "metadata": {},
     "output_type": "execute_result"
    }
   ],
   "source": [
    "sentence = []\n",
    "a = 0\n",
    "b = ''\n",
    "\n",
    "for i in range(len(sent)):\n",
    "    sentence.append(b+' '.join(sent[i:]))\n",
    "    b += str(sent[a])\n",
    "    a += 1\n",
    "sentence"
   ]
  },
  {
   "cell_type": "code",
   "execution_count": 201,
   "metadata": {},
   "outputs": [
    {
     "data": {
      "text/plain": [
       "['물질안전보건자료MSDS',\n",
       " '물질 안전보건자료MSDS',\n",
       " '물질안전 보건자료MSDS',\n",
       " '물질안전보건 자료MSDS',\n",
       " '물질안전보건자료 MSDS']"
      ]
     },
     "execution_count": 201,
     "metadata": {},
     "output_type": "execute_result"
    }
   ],
   "source": [
    "sentence = []\n",
    "b = ''\n",
    "\n",
    "for i in sent:\n",
    "    c = ''\n",
    "    for j in sent[(sent.index(i)):]:\n",
    "        c += j\n",
    "    sentence.append((b+' '+c).strip())\n",
    "    b += i\n",
    "    \n",
    "sentence"
   ]
  },
  {
   "cell_type": "code",
   "execution_count": 1,
   "metadata": {},
   "outputs": [
    {
     "name": "stdout",
     "output_type": "stream",
     "text": [
      "인원 출입증정규출입증\n",
      "인원출입증 정규출입증\n",
      "인원출입증정규 출입증\n",
      "인원 출입증 정규출입증\n",
      "인원 출입증정규 출입증\n",
      "인원출입증 정규 출입증\n",
      "인원 출입증 정규 출입증\n"
     ]
    }
   ],
   "source": [
    "import itertools\n",
    "\n",
    "sent = '인원 출입증 정규 출입증'\n",
    "sent = sent.split(' ')\n",
    "\n",
    "# Get indices for spaces\n",
    "N = range(len(sent) - 1)\n",
    "\n",
    "for i in N:\n",
    "    # Get all combinations where the space suits\n",
    "    # Note that this doesn't include the option of no spaces at all\n",
    "    for comb in itertools.combinations(N, i + 1):\n",
    "        # Add space to the end of each word\n",
    "        # with index contained in the combination \n",
    "        listsent = [s + \" \" if j in comb else s for j, s in enumerate(sent)]\n",
    "        # Make the result a string or count the combinations if you like\n",
    "        tempsent = \"\".join(listsent)\n",
    "        print(tempsent)"
   ]
  }
 ],
 "metadata": {
  "kernelspec": {
   "display_name": "Python 3",
   "language": "python",
   "name": "python3"
  },
  "language_info": {
   "codemirror_mode": {
    "name": "ipython",
    "version": 3
   },
   "file_extension": ".py",
   "mimetype": "text/x-python",
   "name": "python",
   "nbconvert_exporter": "python",
   "pygments_lexer": "ipython3",
   "version": "3.7.3"
  }
 },
 "nbformat": 4,
 "nbformat_minor": 2
}
